{
 "cells": [
  {
   "cell_type": "code",
   "execution_count": 6,
   "metadata": {},
   "outputs": [
    {
     "name": "stdout",
     "output_type": "stream",
     "text": [
      "[[1 0 0]\n",
      " [0 0 0]\n",
      " [0 0 0]]\n",
      "Tie: False\n",
      "Winner: None\n",
      "\n",
      "[[ 1 -1  0]\n",
      " [ 0  0  0]\n",
      " [ 0  0  0]]\n",
      "Tie: False\n",
      "Winner: None\n",
      "\n",
      "[[ 1 -1  1]\n",
      " [ 0  0  0]\n",
      " [ 0  0  0]]\n",
      "Tie: False\n",
      "Winner: None\n",
      "\n",
      "[[ 1 -1  1]\n",
      " [ 0  0 -1]\n",
      " [ 0  0  0]]\n",
      "Tie: False\n",
      "Winner: None\n",
      "\n",
      "[[ 1 -1  1]\n",
      " [ 0  1 -1]\n",
      " [ 0  0  0]]\n",
      "Tie: False\n",
      "Winner: None\n",
      "\n",
      "[[ 1 -1  1]\n",
      " [ 0  1 -1]\n",
      " [-1  0  0]]\n",
      "Tie: False\n",
      "Winner: None\n",
      "\n",
      "[[ 1 -1  1]\n",
      " [ 0  1 -1]\n",
      " [-1  1  0]]\n",
      "Tie: False\n",
      "Winner: None\n",
      "\n",
      "[[ 1 -1  1]\n",
      " [ 0  1 -1]\n",
      " [-1  1 -1]]\n",
      "Tie: True\n",
      "Winner: None\n",
      "\n"
     ]
    }
   ],
   "source": [
    "from board import Board, Move\n",
    "\n",
    "board = Board()\n",
    "\n",
    "moves = [\n",
    "    (0, 0), (0, 1),\n",
    "    (0, 2), (1, 2),\n",
    "    (1, 1), (2, 0),\n",
    "    (2, 1), (2, 2)\n",
    "]\n",
    "\n",
    "for move in moves:\n",
    "    m = Move(*move)\n",
    "    board.make_move(m)\n",
    "\n",
    "    print(board.board)\n",
    "\n",
    "    print(f\"Tie: {board.check_tie()}\")\n",
    "    print(f\"Winner: {board.check_win()}\\n\")"
   ]
  },
  {
   "cell_type": "code",
   "execution_count": null,
   "metadata": {},
   "outputs": [],
   "source": []
  }
 ],
 "metadata": {
  "kernelspec": {
   "display_name": "venv",
   "language": "python",
   "name": "python3"
  },
  "language_info": {
   "codemirror_mode": {
    "name": "ipython",
    "version": 3
   },
   "file_extension": ".py",
   "mimetype": "text/x-python",
   "name": "python",
   "nbconvert_exporter": "python",
   "pygments_lexer": "ipython3",
   "version": "3.11.0"
  },
  "orig_nbformat": 4
 },
 "nbformat": 4,
 "nbformat_minor": 2
}
